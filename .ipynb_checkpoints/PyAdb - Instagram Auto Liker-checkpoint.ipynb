{
 "cells": [
  {
   "cell_type": "code",
   "execution_count": 61,
   "metadata": {},
   "outputs": [],
   "source": [
    "from matplotlib import pyplot as plt\n",
    "import cv2\n",
    "import numpy as np\n",
    "import time"
   ]
  },
  {
   "cell_type": "code",
   "execution_count": 62,
   "metadata": {
    "scrolled": true
   },
   "outputs": [],
   "source": [
    "from ppadb.client import Client as AdbClient\n",
    "# Default is \"127.0.0.1\" and 5037\n",
    "adb = AdbClient(host=\"127.0.0.1\", port=5037)\n",
    "devices = adb.devices()\n",
    "\n",
    "device = devices[0]"
   ]
  },
  {
   "cell_type": "code",
   "execution_count": 63,
   "metadata": {},
   "outputs": [],
   "source": [
    "def remove_text_blocks(image):\n",
    "    try:\n",
    "        res = image.copy()\n",
    "        gray = cv2.cvtColor(image, cv2.COLOR_BGR2GRAY)\n",
    "        _, thresh = cv2.threshold(gray, 0, 255,\n",
    "                                  cv2.THRESH_BINARY_INV + cv2.THRESH_OTSU)\n",
    "        contours, hierarchy = cv2.findContours(thresh, cv2.RETR_TREE,\n",
    "                                               cv2.CHAIN_APPROX_NONE)\n",
    "\n",
    "        for i in contours:\n",
    "            cnt = cv2.contourArea(i)\n",
    "            if cnt < 500:\n",
    "                x, y, w, h = cv2.boundingRect(i)\n",
    "                cv2.rectangle(image, (x - 1, y - 1), (x + w + 1, y + h + 1),\n",
    "                              (0, 0, 0), -1)\n",
    "\n",
    "    except Exception as e:\n",
    "        print(f\"I screwed up somewhere !!!\")\n",
    "        \n",
    "    return image\n",
    "\n"
   ]
  },
  {
   "cell_type": "code",
   "execution_count": 64,
   "metadata": {
    "scrolled": true
   },
   "outputs": [],
   "source": [
    "index = 0\n",
    "while (index < 10):\n",
    "    current_active_screen = device.screencap()\n",
    "    with open(f\"./images/image{index}.png\", \"wb\") as image_file:\n",
    "        image_file.write(current_active_screen)\n",
    "    image = cv2.imread(f\"./images/image{index}.png\")\n",
    "    image = remove_text_blocks(image)\n",
    "\n",
    "    height, width, _ = image.shape\n",
    "    # Blacking out the top and the buttom bar\n",
    "    cv2.rectangle(image, (0, 2200), (width, height), (0, 0, 0, 0), -1)\n",
    "    cv2.rectangle(image, (0, 0), (width, 200), (0, 0, 0, 0), -1)\n",
    "\n",
    "    x_value = int(width / 2)\n",
    "    y_value = int(height)\n",
    "\n",
    "    for y_value in range(1, height):\n",
    "        if (y_value % 100 == 0):\n",
    "            current_pixel = cv2.split(image[y_value, x_value])[0]\n",
    "            b, g, r = current_pixel[0], current_pixel[1], current_pixel[2]\n",
    "            if (100 <= r[0] <= 200 or 100 <= g[0] <= 200\n",
    "                    or 100 <= b[0] <= 200):\n",
    "                device.shell(f\"input tap {x_value} {y_value}\")\n",
    "                device.shell(f\"input tap {x_value} {y_value}\")\n",
    "                cv2.circle(image, (x_value, y_value), 20, (255, 0, 0), -1)\n",
    "                time.sleep(2)\n",
    "\n",
    "    device.shell(f'input touchscreen swipe 540 2160 540 235 3000')\n",
    "\n",
    "    cv2.imwrite(f\"./images/image_res{index}.png\", image)\n",
    "    index += 1"
   ]
  },
  {
   "cell_type": "code",
   "execution_count": 88,
   "metadata": {},
   "outputs": [
    {
     "data": {
      "text/plain": [
       "True"
      ]
     },
     "execution_count": 88,
     "metadata": {},
     "output_type": "execute_result"
    }
   ],
   "source": [
    "image = cv2.imread(f\"./images/image1.png\")\n",
    "love_image = cv2.imread(f\"./images/base_love_image.png\")\n",
    "\n",
    "height, width, _ = image.shape\n",
    "w, h = love_image.shape[:-1]\n",
    "\n",
    "res = cv2.matchTemplate(image, love_image, cv2.TM_CCOEFF_NORMED)\n",
    "threshold = .8\n",
    "loc = np.where(res >= threshold)\n",
    "for pt in zip(*loc[::-1]):  # Switch collumns and rows\n",
    "    cv2.rectangle(image, pt, (pt[0] + w, pt[1] + h), (0, 0, 255), 2)\n",
    "\n",
    "cv2.imwrite('./images/result.png', image)"
   ]
  },
  {
   "cell_type": "code",
   "execution_count": 104,
   "metadata": {},
   "outputs": [
    {
     "data": {
      "text/plain": [
       "True"
      ]
     },
     "execution_count": 104,
     "metadata": {},
     "output_type": "execute_result"
    }
   ],
   "source": [
    "image = cv2.imread(\"./images/image1.png\")\n",
    "height, width, _ = image.shape\n",
    "cv2.rectangle(image, (0, 2200), (width, height), (0, 0, 0, 0), -1)\n",
    "cv2.rectangle(image, (0, 0), (width, 200), (0, 0, 0, 0), -1)\n",
    "cv2.imwrite(\"./images/test.png\", image)"
   ]
  },
  {
   "cell_type": "code",
   "execution_count": null,
   "metadata": {},
   "outputs": [],
   "source": []
  }
 ],
 "metadata": {
  "kernelspec": {
   "display_name": "Python (venv)",
   "language": "python",
   "name": "venv"
  },
  "language_info": {
   "codemirror_mode": {
    "name": "ipython",
    "version": 3
   },
   "file_extension": ".py",
   "mimetype": "text/x-python",
   "name": "python",
   "nbconvert_exporter": "python",
   "pygments_lexer": "ipython3",
   "version": "3.6.10"
  }
 },
 "nbformat": 4,
 "nbformat_minor": 4
}
